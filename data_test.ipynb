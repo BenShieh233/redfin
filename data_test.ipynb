{
 "cells": [
  {
   "cell_type": "code",
   "execution_count": 85,
   "metadata": {},
   "outputs": [],
   "source": [
    "url = 'https://apionline.homedepot.com/federation-gateway/graphql?opname=reviews'"
   ]
  },
  {
   "cell_type": "code",
   "execution_count": 45,
   "metadata": {},
   "outputs": [],
   "source": [
    "headers ={\n",
    "    \"accept\": \"*/*\",\n",
    "    \"accept-encoding\": \"gzip, deflate, br, zstd\",\n",
    "    \"accept-language\": \"en-US,en;q=0.9\",\n",
    "    \"content-type\": \"application/json\",\n",
    "    \"cookie\": \"QuantumMetricUserID=a2899551da75d63cbb97689ca698cdc7; HD_DC=origin; at_check=true; AMCVS_F6421253512D2C100A490D45%40AdobeOrg=1; THD_PERSIST=; THD_CACHE_NAV_PERSIST=; DELIVERY_ZIP_TYPE=DEFAULT; thda.s=7fe92dab-a91d-ce53-fa91-8a2c1a312ad2; thda.u=663cb1bf-11fb-6c11-8ac5-2e9366add3ad; _px_f394gi7Fvmc43dfg_user_id=YWQyYzZhZDEtMzNmOC0xMWVmLTliMzEtM2IyY2ZiYWFiMGY0; ajs_anonymous_id=d7861241-60b9-44eb-9d5a-fbbddaa73695; thda.m=76721570817405704221197643616351372219; aam_uuid=76470141564458929311223218151539404238; trx=6582811316921143341; _gcl_au=1.1.17785004.1719432867; _ga_M8YZQYQTBJ=GS1.2.1719934627.1.1.1719934657.0.0.0; THD_MCC_ID=1fabb362-71e8-41d0-a55f-f5e4d436415f; _gac_UA-32593878-1=1.1722967269.CjwKCAjwk8e1BhALEiwAc8MHiOM4vYyAYWP7sZDUfls5QtoSnk7uhKcYKqe8AAqUFbM6KUELwbuS4RoCItkQAvD_BwE; _gcl_aw=GCL.1722967269.CjwKCAjwk8e1BhALEiwAc8MHiOM4vYyAYWP7sZDUfls5QtoSnk7uhKcYKqe8AAqUFbM6KUELwbuS4RoCItkQAvD_BwE; _gcl_dc=GCL.1722967269.CjwKCAjwk8e1BhALEiwAc8MHiOM4vYyAYWP7sZDUfls5QtoSnk7uhKcYKqe8AAqUFbM6KUELwbuS4RoCItkQAvD_BwE; _gcl_gs=2.1.k1$i1722967264; kndctr_F6421253512D2C100A490D45_AdobeOrg_identity=CiY3NjcyMTU3MDgxNzQwNTcwNDIyMTE5NzY0MzYxNjM1MTM3MjIxOVIQCNDw2%2DWdMhgBKgNPUjIwA%5FABvvPb5Z0y; DELIVERY_ZIP=91786; _ga=GA1.1.184946466.1719432866; _ga_9H2R4ZXG4J=GS1.1.1725992759.10.0.1725992759.60.0.0; THDSSO=FjM4VjoUNtnvIBwWDBVWXV0qcDVu9FYi6MeyaCtFJ6HBzkXxmFWuUJMPJlGVIDlNMRZOqHTRyTEWtoAHNOVpGWQRnuUIdJPM8Ul1Xmi9SiUz9ry3hxt3jmRUY07LqTjua4m092SS3QIdmGbm6vaFALYAhinnXCcfXHQydce8iP84Wb5BBGNcOryZthVfSxDngH09RQeIKpmb8pziWszqJ707dw6CKzD5fH8MTBB9gHb4vkq2b4hs1VSUF8LGBXCvbeQ0fCBgBtpsrZ3QjAa9vhInonQvpSlCPRzv12zEKc8kitzEXOQcNyhLYUq4aiQ7W8MoDUgJYJHisrVqewMkMGqX88Ny2bEVndBcjMOZHMTjlgmr2tL9QvtUQsLayBvredrLX3YYhNwToCgWlymgwCyFvfOBtTnynkECSokumoUQ7J1fy9vl72QnSv2AoNKPLBCSl5Y23qAFEZo7yWbXPer9xeBR9N8Hi9N691RzyhTzxTyJDURlTFmVaAsMtQe1so1YZqKiW3lpL3Dgc7zq3erUZz31yVoHdkud82KSKXqcHAZyXwoGHpkfsUsxmgUVA3Hk6BNjwyjIuHNt4l7z74XAD3LXkA3BRF7DynXXlxWZ4Fh1vdC91D8QN7sVZU0bxu6ud7jkrV5kZFqV5zZoyB8alIrd7IxR6L61eTpwxp1bjh6jRW0OosPMNqSZNbXU6A1G7tL; PF=ouFvVLf7PYWbkJjmImpbnLOGCJXYnMUivKzYNJ90Wmwf; SMSESSION=6UwaQrqpDF4PnmjpCRQzpkRnKF5dwiXx38MRfAWEk7fL6PrzQbD3yZnpeXIKCOn0ug92RyC/zwauB/zm9Kt/voodjrIm6o4inleppDwKD8+fkV/sxUwywNIZKwReVeBwmPEGjjQEBo1EqDzjkOQo3DiiWqGzf2XCY6DZLKuJSqb+TDEO7avYFD3DiYm6gZSaa2ECBqnHjm8Wz9nVi+xi2/SXzZFJHcG70mOAZ5fIqz0mId6OBGbotsx7m7Q/zkvX8SST+7Zy2kHrq+gL4ZLmt3hK1grEmRNL7oa5eb8grwIMryyXiZpvMZWrORHUeZ6K7abIFsiMhZBOBcA7idljoZEumDgOqxUbPhEAcIS4ImeHSh7ZPeOoWSxx06t0HipIpOYHOCBi8M456ErphTufP6pi484HR2T6eQ6mqOYomH6u2TrAo3cZeOwHWbaWz87AOkn7gu1EQxv037x8486zxwO9J5pjTw2WTA7bS0Ux4MMwX8oOTl+YSXjeUBxCq+AjlFRzAUXKoALwujdrhiRavllC1vYQMOaIHJt1s3vQ3lMSJpkYf6L91TUp2SUU5eRumkw8MoV9HzcHA2w0xxNIEnOebo81HhHU8MrcJQTJh14at5JYrMch3F0V30SModyZA9dESUZ1h5n5yT/WBs5tw+97fLw8Xcgoz2XSH+ZIGq9UAoYyTGclcI2TkXWrSjSUkjpgZ+fV0Q+P4q4JiYZqXnzOS1Yzebp0Zq4AuzXWpWTBoJLJdwTFg9ss83vDFfaN7J24hoUSDYdxNx89Cl2i5TZDDaLalcvSjVz0Pz3VNlbSiwSul2kjnvGmAw/oTrR+THNN8uKE8K7Qhlh2TsntL8He5v0DJ6axas9xiqpgBoK9qQ9ftTIBFPC6Zz6XMSG6ZkgiDfmuHnP5QcUwSYsEpJfSBPRk0edVjJZMUbRPM0zK19Nm3IvaHS1f1Q0KEjb678OUh1PuBVdi9yD7dW7H7xZozKji++Iu1wQkBtThDn8=; PF.PERSISTENT=eyJhbGciOiJkaXIiLCJlbmMiOiJBMTI4Q0JDLUhTMjU2In0..qb5YU2E_KtrUsssCprzGDA.um6Zv8s2iY7Eo7MBqIDeI4gdS_GNc6KuXdyE3R2mFqbFoZDW-xJ1beaOpNiz3YIsh3EzykTAQbnmlm0M0Zn5rkM5zH7cR-TlR9M5OQAMeO4.t3gHfhocqiAhKb0Vv0vtEg; ads=d4583d50af052f3ac724e7d6c047b45e; THD_NR=1; THD_SESSION=; THD_CACHE_NAV_SESSION=; bm_ss=ab8e18ef4e; AKA_A2=A; THD_LOCALIZER=%7B%22WORKFLOW%22%3A%22LOCALIZED_BY_GPS_MEDIUM%22%2C%22THD_FORCE_LOC%22%3A%221%22%2C%22THD_INTERNAL%22%3A%220%22%2C%22THD_LOCSTORE%22%3A%22687%2BUpland%20-%20Upland%2C%20CA%2B%22%2C%22THD_STRFINDERZIP%22%3A%2291786%22%2C%22THD_STORE_HOURS%22%3A%221%3B7%3A00-20%3A00%3B2%3B6%3A00-22%3A00%3B3%3B6%3A00-22%3A00%3B4%3B6%3A00-22%3A00%3B5%3B6%3A00-22%3A00%3B6%3B6%3A00-22%3A00%3B7%3B6%3A00-22%3A00%22%2C%22THD_STORE_HOURS_EXPIRY%22%3A1726688163%7D; IN_STORE_USER_NUMBER=Not%20In%20Store; ak_bmsc=65A497D01768AC53E983D11500C851C0~000000000000000000000000000000~YAAQCfferdqqi9uRAQAA+BqWBhnT8D6nCFwEoWB7RPNSD9yWOf1uumh+WPWXGJeP4ocX9INO4AIR6aJEKSe9IVVqJ/k6RCxfC613E3hBENM/6plmHyPlvvQVArO9J6AA29mRWFWlmP3X4VeNUu1lrwrLHLhF0THDiYK50827Swk95XAk2tMyTFqH0KAQK8OajBAMGOs8JWVjyqrWazWxTmisk7y5YOYUiUbJ7cX0yk9wus6sc1UAcyuuL6aiBLoJcFiVMuC74adFLj53iXbG8gbzfDXjxgydBkgMsS29XqXpRtkVUGokNxCDuiIr4OycwC+EByF3kGxshLV32lxvJX4cIRKtGB2hrIBEmPOU2rKxu55tuJgSMOuCsH7UHummksKI7u50cy/og+h8; mbox=session#c91b21ac40cc4ebfad0d6327be228929#1726689257; bm_lso=62068AFB0CFDD1B4256206D1C860F433C5D86438D6B1F92333AA6645D5879E2E~YAAQCfferRLDi9uRAQAATcWWBgG1t8Q63p4CYPPn+LPLj67qr/9VWy8Klz18OXxT8UkxGM0b4OUBFXW8gl3hRiJ6aGkHr0DnBvuSrVrZuzHUfeuG8hn2eR+bARLFC1zA95mq9KMbw2PokiH0Uq5NwtgqRepWluk+lOeCpEftgGRVHwMsvw7quddgXZnpz6K/X2G9p5gLvHcP4Iqd4dGPu3DNIjdgHtVJesCtgLRGkC6MY3J82vUM24aSyB/RBa02A6dbjR7SIK0pvefiBZXCa3qP3PseBvYzvahJbOMDhEWw72lmkpCUOFuvE+oi/K8r27z8QMzP0+PGPPzxQ1jvpIV6+P9ir9intazE+dmqsw5hmkEKk27GqGfOpVjQWEiey5GmPhgKsULoR1iaZxkU1nNhYIfZBrA1K+HyIwxvu76CtRLK5qn7RlG/wb0bS5tjFy24ptSM53kpa7zUY/45HPwDghOWHlxrhqtNqsG1IdVLjnypUoPGyzTZss/I8Nl8Hhrw78pJIgBj1f7oo5EozwTR5bBxMQwjtzNfLSsakCwMGsjRkYiSNjy90lNacCzm4lfOEQrg661GPLvabViOxtTY^1726687398717; s_sess=%20fabrickIdfromInDb%3D%2522E1%253AXbQXXulLu04o_qtIPPxOEj0A6448gmJUZI3OfW9dlhxbKhzcOh5SbbO4w4v_Slr1KVzpxu7g6Eiw2oHVUWG9bUw6QPhO63_fx9CX4gp4JzI%2522%3B%20s_pv_pName%3Dproductdetails%253E307853682%3B%20s_pv_pType%3Dpip%3B%20s_pv_cmpgn%3D%3B%20s_pv_pVer%3Dhd%2520home%2520v1%3B%20stsh%3D%3B%20s_cc%3Dtrue%3B; forterToken=629e72db133c4fdca594832c79f2e0f9_1726687398375_19_dUAL43-mnts-ants_13ck; bm_mi=593E4F82080906D55B76EF4FDB4B02F3~YAAQCfferQjRi9uRAQAAzjiXBhkbaVqUzddtsi7HUmBIeiQYLWmUJiimXXKwQ9iRqAlbsnmyze0MRFmJwc/MvaoovCtzapPl9A35++ksmkX6ekfldDSicJRgG/6p0aVLK8q9BrNTbQLeqPiWB4qtdEanN4K8z4Lj1TE6w9RRXPRtsu+ZnjmAsyCApZCp6+pPeB0ZP3G4zZsadGE2rWxNAkpUMQzHXeYCl7BK5M4X9FlghWaXear3mz8E+/3Psvmb7EgWZkN0lDRiYDDUQWGr3qcu1dIzVmJdkVHTe6TOS4PyJoSGvdmIgQzGKHCrekMbqW+hXq6J7TYZOFWh4Q+P7yTOz+bnvXZ8HLZhsXspyQqERaOliTg6aj5NGKAt0bFqdk9POsl2SnIgd40S/JE9JkiU1lBwQtrnOWZgeiZ7kETtPal46EW1iZ00hpvKCwcdv3Y0ZIM+4ERsfC7CYy0+emZxyciu6cW1DOiyA/GKl/bjl10MQboenqeN/JlzffCT+Sta~1; bm_so=3A26BC7A9E300FD539802AEDAB42FB859DE3D76539F5A2D7B576E906E1ABB7AA~YAAQCfferQrRi9uRAQAAzjiXBgGjRuYra14sZgx4h+ZHT6vs9Mv+n5aWqqIWmqTBH13Qgou1LwpWCsuhiOJGizHmgQhjC+Ue2JwjuO6hpgwE5PcbjuanE5v27Aib0ssOC1gMs7fhLdLYHSy5Slg7Bk85QhS6cTW8DcMxx5xigr6J/J3u21vnQ49vSgDunBDKvgOWyJ129tF1qinOIZQd9GdSrCaw9O9D7KibJ9h6JeeK4AINEj+pu+j64/iF2ACvrkmALK3UbpP3baH3KWOidkd4KfW3oE5Ys+k2tZ3pg4APAuSCfbxKU8ubumR4KNNLprGghocwx0Rc3oKmuWANlaBabANhg822R/C7L5f4lQ1vzu6VozZ+qP1jDoZVcZvufT6AvM8KY82N9lOCSTOu4JsvXwwub2ruC0tW/bOHMWjtS2M/9uHC1qfEa5PppY1R3zDFHNZe1ruk0laa0lxKyqsaXhWCgVmQjuD/+w3nVwZJr8l43EYnggog9grC/erwEU1UkPhffpwnMzQoPipMuMqs3SVyAFWxB7v4qUHORGhmCK8hsYIzk/0aHCIkKHCJqaZ1vccMAYefYyDR8fezK2dc; s_pers=%20s_nr365%3D1726687432381-Repeat%7C1758223432381%3B%20s_dslv%3D1726687432382%7C1821295432382%3B; s_sq=%5B%5BB%5D%5D; bm_s=YAAQCfferXTUi9uRAQAAQlWXBgItpA0x4maiIW+R4vvYQwuqQuEf+zbK+nUizX8X1UvFMP+2I6OG/qsjAkhjge7sO0dwuqavyLN242A/itf+prVc9bKmgRoLt8VZYyb6oobkY00eIJUhIdtyt2DmfhfTUpKiXlyNjYouaaNbUrvO77hrS6v95VXPmO9YMPwCCop81pqaid8v7XVp4RbE//YmA8qrNK983fc9les7B+DZJCzNUP3v1spyhs9VN1lThr0kCJOM+oylNZUX+qb/q50lX6e9YfugEpQNES13ix1CO+Tvr5jVqGql3uqoQ7UgaMUGMJRykkZ4Os+escbWjGQNb4BV4aiq6w==; bm_sv=CBF778B50560140A2AD5025F8863DCF6~YAAQCfferXXUi9uRAQAAQlWXBhmqfi2TlXgawaxJhVdpjj5MFfOL37vHGthIWeKtyjrxQjpKE8LhWfqfTWCe0W3GEhSwRK4igXt0O5oofN+B5cVxhgJzq/P4W7qGwghjZER6Rq1K93pkWkHSSqeYIt7rMKV/YTHrVrdnOtnyuWhVxiO2XS5wCWDaaoegnvYZmw1g7XsgDiHMVG0pkFFEn8OjTZTQlQKiGz0uigSNQ11aOu+zGAaOAbR9dUv7VSNwtar42g==~1; AMCV_F6421253512D2C100A490D45%40AdobeOrg=1585540135%7CMCMID%7C76721570817405704221197643616351372219%7CMCAAMLH-1721833895%7C9%7CMCAAMB-1721833895%7CRKhpRz8krg2tLO6pguXWp5olkAcUniQYPHaMWWgdJ3xzPWQmdj0y%7CMCOPTOUT-1726694645s%7CNONE%7CMCCIDH%7C-1985754735%7CvVersion%7C4.4.0; _abck=40320029DE6C666FA8FAA0AF7F138B10~-1~YAAQCfferU3ai9uRAQAApIeXBgwDgcszGvbfLo5g66lAUnbF/zdscRTwqehEsUhp8KjDbCwkYv9gc9deaZP/qz/dcJ8C/C223NnhKFQZWJnDWFLJrAlAbRfKT7/9bwNRtGev6uzqIUwA0G9Wadm3Aee/slkvooQDAFdq6dikrM8Jad56ngJgiIRH29YmlrNWqnR8FliBC40yttkXdX3CvJU9HeHwKIfrHsPEfDXyPg2WnAZ02fFpgB7/x7v7M+hd8ggKboHe3cBd8pxT8vCzIlPU7z9tgPhzNCUVxDZ2+mpbt4KO+YuEXR5OmoTPory/PcejdnW2i6wKL0OKSyEFuS51Rn2CNC4FMqxMSdMc0h3OfLc1gEvpflKgaGaEHGAFYWw5ZaoDDiuBmbXeBT1om8sZIMzVOZtnTKjh/KQ2DFTRJsgWuSqifLHdtiLHoDJbg7j/EBTAqm7rTf7qx9UT/iaH+OQIuQRODi6adfFQYyPReQK06pbbfBy71ayT1KpZ3ItWhIVNi0LwPpsbT2qQenwpnkRlegUC72ZtgknEYpzRvMm08V8807KWsqSDYuL4DkqMh9o7QqkbJEywNParf9irEBqQfRbqOkXZD6r/o1ux5wTykbaXNY2S5N97SSCcJ+AOHyEgj30ci7eVTKt7ji1DLjo8XIO199JvYHJbDma6IlxXKMUXB0/k/PYVx6FQquDc~-1~||0||~-1; bm_sz=C0B41B73EF754D1C7D5B2C349D66BBC4~YAAQCfferU7ai9uRAQAApIeXBhnAU26R4DBhiXu9WFR+Gbwxl3Lfk0bQgrQ91cQazUn7sLD2cIr22v/ec+db6xQGdEQxwdkcXSR1SSpeLgmkM+EYL1yJ7Yq9uN4+FvUxhG2pBlM4Ocrlhsa0E6y01vJYgTVtDBDZ0+PFskXyOQ2jVLASR/gj8RkuUUhU0lFTsIQfX72mY4L9M7vUNQXLKdiwFl4R6GC3SeG+pxx3OEN0ek1ErCsjg7kIe0eR8hOtDKg7O7tWerMKkTAJloRGUyKm8QJ10aPgqHbjD0HK+Krjm2uu9K9DGiLD4izGED4JhEL4c6M3Zyjr8XLTbE94DiWDz2sRPYM8MMg2G/H21ZbmImHO7FKDyGAooMXHvG4KNNFdhFURQtYwa8o7UNxyf/Ilxp/XG/V3/nLYXitTnVoYYmq8SRp7YgfS0GExZ8z61zh8pHjlZ5F+xHM6EcEpvCpfUTs8PQs0omWyf2g3Xyp8juKOQMiOZpnBQXDQEwk3+xQqMce0QNpZEaEJ/BlEJAgflqIX7MFDo9ggY4eHssIN0Uhy7n8mdLoGPC/Ek5VvG66lcQ==~3687746~4405299\",\n",
    "    \"Origin\": \"https://www.homedepot.com\",\n",
    "    \"Priority\": \"u=1, i\",\n",
    "    \"Referer\": \"https://www.homedepot.com/\",\n",
    "    \"Sec-CH-UA\": \"\\\"Chromium\\\";v=\\\"128\\\", \\\"Not;A=Brand\\\";v=\\\"24\\\", \\\"Google Chrome\\\";v=\\\"128\\\"\",\n",
    "    \"Sec-CH-UA-Mobile\": \"?0\",\n",
    "    \"Sec-CH-UA-Platform\": \"\\\"Windows\\\"\",\n",
    "    \"Sec-Fetch-Dest\": \"empty\",\n",
    "    \"Sec-Fetch-Mode\": \"cors\",\n",
    "    \"Sec-Fetch-Site\": \"same-site\",\n",
    "    \"User-Agent\": \"Mozilla/5.0 (Windows NT 10.0; Win64; x64) AppleWebKit/537.36 (KHTML, like Gecko) Chrome/128.0.0.0 Safari/537.36\",\n",
    "    \"X-Api-Cookies\": \"{\\\"x-user-id\\\":\\\"663cb1bf-11fb-6c11-8ac5-2e9366add3ad\\\"}\",\n",
    "    \"X-Cloud-Trace-Context\": \"1ee3e5eddaf64771a56ab31e272aeacf/20;o=1\",\n",
    "    \"X-Current-Url\": \"/p/Hunter-Antero-54-in-LED-Indoor-Matte-Black-Ceiling-Fan-with-Light-59585/307853682\",\n",
    "    \"X-Debug\": \"false\",\n",
    "    \"X-Experience-Name\": \"hd-home\",\n",
    "    \"X-Hd-Dc\": \"origin\",\n",
    "    \"X-Parent-Trace-Id\": \"cf4dfe2b8ae15e35c92c980873723498/17880050505087657402\"\n",
    "}"
   ]
  },
  {
   "cell_type": "code",
   "execution_count": 97,
   "metadata": {},
   "outputs": [],
   "source": [
    "import json"
   ]
  },
  {
   "cell_type": "code",
   "execution_count": 55,
   "metadata": {},
   "outputs": [],
   "source": [
    "payload = {\"operationName\":\"reviews\",\"variables\":{\"filters\":{\"isVerifiedPurchase\":\"false\",\"prosCons\":None},\"itemId\":\"307853682\",\"pagesize\":\"10\",\"recfirstpage\":\"10\",\"sortBy\":\"oldest\",\"startIndex\":1},\"query\":\"query reviews($itemId: String!, $searchTerm: String, $sortBy: String, $startIndex: Int, $recfirstpage: String, $pagesize: String, $filters: ReviewsFilterInput) {\\n  reviews(\\n    itemId: $itemId\\n    searchTerm: $searchTerm\\n    sortBy: $sortBy\\n    startIndex: $startIndex\\n    recfirstpage: $recfirstpage\\n    pagesize: $pagesize\\n    filters: $filters\\n  ) {\\n    Results {\\n      AuthorId\\n      Badges {\\n        DIY {\\n          BadgeType\\n          __typename\\n        }\\n        top250Contributor {\\n          BadgeType\\n          __typename\\n        }\\n        IncentivizedReview {\\n          BadgeType\\n          __typename\\n        }\\n        EarlyReviewerIncentive {\\n          BadgeType\\n          __typename\\n        }\\n        top1000Contributor {\\n          BadgeType\\n          __typename\\n        }\\n        VerifiedPurchaser {\\n          BadgeType\\n          __typename\\n        }\\n        __typename\\n      }\\n      BadgesOrder\\n      CampaignId\\n      ContextDataValues {\\n        Age {\\n          Value\\n          __typename\\n        }\\n        VerifiedPurchaser {\\n          Value\\n          __typename\\n        }\\n        __typename\\n      }\\n      ContextDataValuesOrder\\n      Id\\n      IsRecommended\\n      IsSyndicated\\n      Photos {\\n        Id\\n        Sizes {\\n          normal {\\n            Url\\n            __typename\\n          }\\n          thumbnail {\\n            Url\\n            __typename\\n          }\\n          __typename\\n        }\\n        __typename\\n      }\\n      ProductId\\n      SubmissionTime\\n      TagDimensions {\\n        Pro {\\n          Values\\n          __typename\\n        }\\n        Con {\\n          Values\\n          __typename\\n        }\\n        __typename\\n      }\\n      Title\\n      TotalNegativeFeedbackCount\\n      TotalPositiveFeedbackCount\\n      ClientResponses {\\n        Response\\n        Date\\n        Department\\n        __typename\\n      }\\n      Rating\\n      RatingRange\\n      ReviewText\\n      SecondaryRatings {\\n        Quality {\\n          Label\\n          Value\\n          __typename\\n        }\\n        Value {\\n          Label\\n          Value\\n          __typename\\n        }\\n        EnergyEfficiency {\\n          Label\\n          Value\\n          __typename\\n        }\\n        Features {\\n          Label\\n          Value\\n          __typename\\n        }\\n        Appearance {\\n          Label\\n          Value\\n          __typename\\n        }\\n        EaseOfInstallation {\\n          Label\\n          Value\\n          __typename\\n        }\\n        EaseOfUse {\\n          Label\\n          Value\\n          __typename\\n        }\\n        __typename\\n      }\\n      SecondaryRatingsOrder\\n      SyndicationSource {\\n        LogoImageUrl\\n        Name\\n        __typename\\n      }\\n      UserNickname\\n      UserLocation\\n      Videos {\\n        VideoId\\n        VideoThumbnailUrl\\n        VideoUrl\\n        __typename\\n      }\\n      __typename\\n    }\\n    Includes {\\n      Products {\\n        store {\\n          Id\\n          FilteredReviewStatistics {\\n            AverageOverallRating\\n            TotalReviewCount\\n            TotalRecommendedCount\\n            RecommendedCount\\n            NotRecommendedCount\\n            SecondaryRatingsAveragesOrder\\n            RatingDistribution {\\n              RatingValue\\n              Count\\n              __typename\\n            }\\n            ContextDataDistribution {\\n              Age {\\n                Values {\\n                  Value\\n                  Count\\n                  __typename\\n                }\\n                __typename\\n              }\\n              Gender {\\n                Values {\\n                  Value\\n                  Count\\n                  __typename\\n                }\\n                __typename\\n              }\\n              Expertise {\\n                Values {\\n                  Value\\n                  __typename\\n                }\\n                __typename\\n              }\\n              HomeGoodsProfile {\\n                Values {\\n                  Value\\n                  Count\\n                  __typename\\n                }\\n                __typename\\n              }\\n              VerifiedPurchaser {\\n                Values {\\n                  Value\\n                  Count\\n                  __typename\\n                }\\n                __typename\\n              }\\n              __typename\\n            }\\n            __typename\\n          }\\n          __typename\\n        }\\n        items {\\n          Id\\n          FilteredReviewStatistics {\\n            AverageOverallRating\\n            TotalReviewCount\\n            TotalRecommendedCount\\n            RecommendedCount\\n            NotRecommendedCount\\n            SecondaryRatingsAveragesOrder\\n            RatingDistribution {\\n              RatingValue\\n              Count\\n              __typename\\n            }\\n            ContextDataDistribution {\\n              Age {\\n                Values {\\n                  Value\\n                  Count\\n                  __typename\\n                }\\n                __typename\\n              }\\n              Gender {\\n                Values {\\n                  Value\\n                  Count\\n                  __typename\\n                }\\n                __typename\\n              }\\n              Expertise {\\n                Values {\\n                  Value\\n                  __typename\\n                }\\n                __typename\\n              }\\n              HomeGoodsProfile {\\n                Values {\\n                  Value\\n                  Count\\n                  __typename\\n                }\\n                __typename\\n              }\\n              VerifiedPurchaser {\\n                Values {\\n                  Value\\n                  Count\\n                  __typename\\n                }\\n                __typename\\n              }\\n              __typename\\n            }\\n            __typename\\n          }\\n          __typename\\n        }\\n        __typename\\n      }\\n      __typename\\n    }\\n    FilterSelected {\\n      StarRatings {\\n        is5Star\\n        is4Star\\n        is3Star\\n        is2Star\\n        is1Star\\n        __typename\\n      }\\n      VerifiedPurchaser\\n      SearchText\\n      __typename\\n    }\\n    pagination {\\n      previousPage {\\n        label\\n        isNextPage\\n        isPreviousPage\\n        isSelectedPage\\n        __typename\\n      }\\n      pages {\\n        label\\n        isNextPage\\n        isPreviousPage\\n        isSelectedPage\\n        __typename\\n      }\\n      nextPage {\\n        label\\n        isNextPage\\n        isPreviousPage\\n        isSelectedPage\\n        __typename\\n      }\\n      __typename\\n    }\\n    SortBy {\\n      mosthelpfull\\n      newest\\n      oldest\\n      highestrating\\n      lowestrating\\n      photoreview\\n      __typename\\n    }\\n    TotalResults\\n    __typename\\n  }\\n}\"}\n"
   ]
  },
  {
   "cell_type": "code",
   "execution_count": 36,
   "metadata": {},
   "outputs": [],
   "source": [
    "import requests\n",
    "import json"
   ]
  },
  {
   "cell_type": "code",
   "execution_count": 56,
   "metadata": {},
   "outputs": [],
   "source": [
    "session = requests.Session()\n",
    "response = session.post(url, json=payload, headers=headers)"
   ]
  },
  {
   "cell_type": "code",
   "execution_count": 57,
   "metadata": {},
   "outputs": [
    {
     "data": {
      "text/plain": [
       "<Response [200]>"
      ]
     },
     "execution_count": 57,
     "metadata": {},
     "output_type": "execute_result"
    }
   ],
   "source": [
    "response"
   ]
  },
  {
   "cell_type": "code",
   "execution_count": 59,
   "metadata": {},
   "outputs": [
    {
     "data": {
      "text/plain": [
       "'{\"data\":{\"reviews\":{\"Results\":[{\"AuthorId\":\"03ED23ED25C273800S\",\"Badges\":{\"DIY\":null,\"top250Contributor\":null,\"IncentivizedReview\":null,\"EarlyReviewerIncentive\":null,\"top1000Contributor\":null,\"VerifiedPurchaser\":null,\"__typename\":\"ReviewsBadges\"},\"BadgesOrder\":[\"verifiedPurchaser\"],\"CampaignId\":\"20170425_PPC_PR1_IN_STORE_3023850\",\"ContextDataValues\":{\"Age\":null,\"VerifiedPurchaser\":null,\"__typename\":\"ReviewsContextDataValues\"},\"ContextDataValuesOrder\":[],\"Id\":\"182199987\",\"IsRecommended\":true,\"IsSyndicated\":false,\"Photos\":[{\"Id\":\"2941080\",\"Sizes\":{\"normal\":{\"Url\":\"https://photos-us.bazaarvoice.com/photo/2/cGhvdG86aG9tZWRlcG90/9a430da0-22a9-57b1-9223-73aefb82bef2\",\"__typename\":\"ReviewPhotoSize\"},\"thumbnail\":{\"Url\":\"https://photos-us.bazaarvoice.com/photo/2/cGhvdG86aG9tZWRlcG90/9df8e485-be71-5acc-af04-925c7b4b4a25\",\"__typename\":\"ReviewPhotoSize\"},\"__typename\":\"ReviewPhotoSizes\"},\"__typename\":\"ReviewPhoto\"}],\"ProductId\":\"300662511\",\"SubmissionTime\":\"2017-04-25T13:56:32.000+00:00\",\"TagDimensions\":{\"Pro\":null,\"Con\":null,\"__typename\":\"ReviewsTagDimensions\"},\"Title\":\"I generally love Hunter fans.  This one is no exception.  Looks great.  Virtually silent. Zero wo...\",\"TotalNegativeFeedbackCount\":0,\"TotalPositiveFeedbackCount\":25,\"ClientResponses\":[],\"Rating\":5,\"RatingRange\":5,\"ReviewText\":\"I generally love Hunter fans.  This one is no exception.  Looks great.  Virtually silent. Zero wobble, even with a 3 foot down rod.  Styling is perfect for the room I used it in.  Easy installation.  The ONLY down side is that you must take to lighting globe off to get to the reversing switch.\",\"SecondaryRatings\":{\"Quality\":null,\"Value\":null,\"EnergyEfficiency\":null,\"Features\":null,\"Appearance\":null,\"EaseOfInstallation\":null,\"EaseOfUse\":null,\"__typename\":\"SecondaryRatings\"},\"SecondaryRatingsOrder\":[],\"SyndicationSource\":null,\"UserNickname\":\"MrMike007\",\"UserLocation\":null,\"Videos\":[],\"__typename\":\"ReviewModel\"},{\"AuthorId\":\"03ED1ED4A481AF900S\",\"Badges\":{\"DIY\":null,\"top250Contributor\":null,\"IncentivizedReview\":null,\"EarlyReviewerIncentive\":null,\"top1000Contributor\":null,\"VerifiedPurchaser\":null,\"__typename\":\"ReviewsBadges\"},\"BadgesOrder\":[\"verifiedPurchaser\"],\"CampaignId\":\"20170509_PPC_PR1RM_API_3027887\",\"ContextDataValues\":{\"Age\":null,\"VerifiedPurchaser\":null,\"__typename\":\"ReviewsContextDataValues\"},\"ContextDataValuesOrder\":[],\"Id\":\"183236204\",\"IsRecommended\":null,\"IsSyndicated\":false,\"Photos\":[],\"ProductId\":\"300662511\",\"SubmissionTime\":\"2017-05-11T00:29:31.000+00:00\",\"TagDimensions\":{\"Pro\":null,\"Con\":null,\"__typename\":\"ReviewsTagDimensions\"},\"Title\":\"Electrician had no problems installing the fans after running the...\",\"TotalNegativeFeedbackCount\":0,\"TotalPositiveFeedbackCount\":0,\"ClientResponses\":[],\"Rating\":5,\"RatingRange\":5,\"ReviewText\":\"Electrician had no problems installing the fans after running the new wiring. Fan is quiet and moves air nicely throughout the bedroom.\",\"SecondaryRatings\":{\"Quality\":null,\"Value\":null,\"EnergyEfficiency\":null,\"Features\":null,\"Appearance\":null,\"EaseOfInstallation\":null,\"EaseOfUse\":null,\"__typename\":\"SecondaryRatings\"},\"SecondaryRatingsOrder\":[],\"SyndicationSource\":null,\"UserNickname\":\"HomeDepotCustomer\",\"UserLocation\":null,\"Videos\":[],\"__typename\":\"ReviewModel\"},{\"AuthorId\":\"120473955\",\"Badges\":{\"DIY\":null,\"top250Contributor\":null,\"IncentivizedReview\":null,\"EarlyReviewerIncentive\":null,\"top1000Contributor\":null,\"VerifiedPurchaser\":null,\"__typename\":\"ReviewsBadges\"},\"BadgesOrder\":[\"verifiedPurchaser\"],\"CampaignId\":\"20170516_PPC_PR1RM_API_3030037_RMForm\",\"ContextDataValues\":{\"Age\":null,\"VerifiedPurchaser\":null,\"__typename\":\"ReviewsContextDataValues\"},\"ContextDataValuesOrder\":[],\"Id\":\"183685564\",\"IsRecommended\":null,\"IsSyndicated\":false,\"Photos\":[],\"ProductId\":\"300662511\",\"SubmissionTime\":\"2017-05-16T21:22:32.000+00:00\",\"TagDimensions\":{\"Pro\":null,\"Con\":null,\"__typename\":\"ReviewsTagDimensions\"},\"Title\":\"Easy to read instructions. Easy to install . Happy that...\",\"TotalNegativeFeedbackCount\":0,\"TotalPositiveFeedbackCount\":0,\"ClientResponses\":[],\"Rating\":5,\"RatingRange\":5,\"ReviewText\":\"Easy to read instructions. Easy to install . Happy that I purchases this ceiling fan.\",\"SecondaryRatings\":{\"Quality\":null,\"Value\":null,\"EnergyEfficiency\":null,\"Features\":null,\"Appearance\":null,\"EaseOfInstallation\":null,\"EaseOfUse\":null,\"__typename\":\"SecondaryRatings\"},\"SecondaryRatingsOrder\":[],\"SyndicationSource\":null,\"UserNickname\":\"Pierre\",\"UserLocation\":null,\"Videos\":[],\"__typename\":\"ReviewModel\"},{\"AuthorId\":\"03ED16E196AF24D00S\",\"Badges\":{\"DIY\":null,\"top250Contributor\":null,\"IncentivizedReview\":null,\"EarlyReviewerIncentive\":null,\"top1000Contributor\":null,\"VerifiedPurchaser\":null,\"__typename\":\"ReviewsBadges\"},\"BadgesOrder\":[],\"CampaignId\":\"BV_REVIEW_DISPLAY\",\"ContextDataValues\":{\"Age\":null,\"VerifiedPurchaser\":null,\"__typename\":\"ReviewsContextDataValues\"},\"ContextDataValuesOrder\":[],\"Id\":\"184036692\",\"IsRecommended\":true,\"IsSyndicated\":false,\"Photos\":[],\"ProductId\":\"300662511\",\"SubmissionTime\":\"2017-05-22T18:46:12.000+00:00\",\"TagDimensions\":{\"Pro\":null,\"Con\":null,\"__typename\":\"ReviewsTagDimensions\"},\"Title\":\"First the good news: The fan runs very quiet and smooth. LED lights are dimmable with a proper LE...\",\"TotalNegativeFeedbackCount\":0,\"TotalPositiveFeedbackCount\":23,\"ClientResponses\":[],\"Rating\":4,\"RatingRange\":5,\"ReviewText\":\"First the good news: The fan runs very quiet and smooth. LED lights are dimmable with a proper LED dimmer. \\\\r\\\\n\\\\r\\\\nAnd now the not so good news: The first one I bought had a defective motor - very noisy humming and vibration. Took it back to my local HD and they exchanged with no issues. Installation instructions are not the best way to put this fan together IMHO. Best way is the old way - assemble the blades to the blade supports first, then install them on the hung fan. Yes it means you have to look up to put the assembled blades on and you have to put the light kit on from below but it beats having to try to tighten the blade mounting screws from the top when the fan has been hung. Next comes the light kit itself - the small rectangular wiring box is too small for all the stuff jammed in there - motor capacitor, wiring harness, fan switch, etc. Finally a comment on the overall quality of this fan. This is not your father\\'s or grandfathers Hunter fan. The decline in design and manufacturing quality is obvious and disappointing to anyone with experience with what was once a premier fan manufacturer. Cheap screws of soft metal, no rubber vibration mounts for the fan blades ais low price really all people care about anymore?\",\"SecondaryRatings\":{\"Quality\":null,\"Value\":null,\"EnergyEfficiency\":null,\"Features\":null,\"Appearance\":null,\"EaseOfInstallation\":null,\"EaseOfUse\":null,\"__typename\":\"SecondaryRatings\"},\"SecondaryRatingsOrder\":[],\"SyndicationSource\":null,\"UserNickname\":\"fatusdadus\",\"UserLocation\":null,\"Videos\":[],\"__typename\":\"ReviewModel\"},{\"AuthorId\":\"03ED1EA79DB274100S\",\"Badges\":{\"DIY\":null,\"top250Contributor\":null,\"IncentivizedReview\":null,\"EarlyReviewerIncentive\":null,\"top1000Contributor\":null,\"VerifiedPurchaser\":null,\"__typename\":\"ReviewsBadges\"},\"BadgesOrder\":[],\"CampaignId\":\"BV_RATING_SUMMARY\",\"ContextDataValues\":{\"Age\":null,\"VerifiedPurchaser\":null,\"__typename\":\"ReviewsContextDataValues\"},\"ContextDataValuesOrder\":[],\"Id\":\"184074228\",\"IsRecommended\":true,\"IsSyndicated\":false,\"Photos\":[{\"Id\":\"3010034\",\"Sizes\":{\"normal\":{\"Url\":\"https://photos-us.bazaarvoice.com/photo/2/cGhvdG86aG9tZWRlcG90/9bc0aa93-6bc3-5e1c-ab81-345f3bf0a49f\",\"__typename\":\"ReviewPhotoSize\"},\"thumbnail\":{\"Url\":\"https://photos-us.bazaarvoice.com/photo/2/cGhvdG86aG9tZWRlcG90/2edf0d90-7908-53ea-a2cd-acbce385b2b0\",\"__typename\":\"ReviewPhotoSize\"},\"__typename\":\"ReviewPhotoSizes\"},\"__typename\":\"ReviewPhoto\"},{\"Id\":\"3010035\",\"Sizes\":{\"normal\":{\"Url\":\"https://photos-us.bazaarvoice.com/photo/2/cGhvdG86aG9tZWRlcG90/8d2dc40b-5684-5cff-973b-6c72ad8c6e5d\",\"__typename\":\"ReviewPhotoSize\"},\"thumbnail\":{\"Url\":\"https://photos-us.bazaarvoice.com/photo/2/cGhvdG86aG9tZWRlcG90/79e26f18-bf44-59b9-a252-347be886d68c\",\"__typename\":\"ReviewPhotoSize\"},\"__typename\":\"ReviewPhotoSizes\"},\"__typename\":\"ReviewPhoto\"}],\"ProductId\":\"300662511\",\"SubmissionTime\":\"2017-05-22T23:32:22.000+00:00\",\"TagDimensions\":{\"Pro\":null,\"Con\":null,\"__typename\":\"ReviewsTagDimensions\"},\"Title\":\"Excellent fan. Super quiet motor can\\'t even hear it running on high, and absolutely no vibration....\",\"TotalNegativeFeedbackCount\":0,\"TotalPositiveFeedbackCount\":30,\"ClientResponses\":[],\"Rating\":5,\"RatingRange\":5,\"ReviewText\":\"Excellent fan. Super quiet motor can\\'t even hear it running on high, and absolutely no vibration.  It comes with two nice standard socket LED bulbs that are replaceable so no worrying about finding a replacement.  The directions are simple to follow and it went together without much effort.  This replaced another fan that didn\\'t even make it a day from a cheaper brand.  After other less than desirable experiences with other fan brands I don\\'t know why I bother with anything but Hunter Fans\",\"SecondaryRatings\":{\"Quality\":null,\"Value\":null,\"EnergyEfficiency\":null,\"Features\":null,\"Appearance\":null,\"EaseOfInstallation\":null,\"EaseOfUse\":null,\"__typename\":\"SecondaryRatings\"},\"SecondaryRatingsOrder\":[],\"SyndicationSource\":null,\"UserNickname\":\"Mike\",\"UserLocation\":null,\"Videos\":[],\"__typename\":\"ReviewModel\"},{\"AuthorId\":\"03ED20A49EC1AA900S\",\"Badges\":{\"DIY\":null,\"top250Contributor\":null,\"IncentivizedReview\":null,\"EarlyReviewerIncentive\":null,\"top1000Contributor\":null,\"VerifiedPurchaser\":null,\"__typename\":\"ReviewsBadges\"},\"BadgesOrder\":[\"verifiedPurchaser\"],\"CampaignId\":\"20170523_PPC_PR1_IN_STORE_3032548_RMForm\",\"ContextDataValues\":{\"Age\":null,\"VerifiedPurchaser\":null,\"__typename\":\"ReviewsContextDataValues\"},\"ContextDataValuesOrder\":[],\"Id\":\"184130321\",\"IsRecommended\":null,\"IsSyndicated\":false,\"Photos\":[],\"ProductId\":\"300662511\",\"SubmissionTime\":\"2017-05-23T14:26:22.000+00:00\",\"TagDimensions\":{\"Pro\":null,\"Con\":null,\"__typename\":\"ReviewsTagDimensions\"},\"Title\":\"I really love this fan! It\\'s really attractive and sits...\",\"TotalNegativeFeedbackCount\":0,\"TotalPositiveFeedbackCount\":3,\"ClientResponses\":[],\"Rating\":5,\"RatingRange\":5,\"ReviewText\":\"I really love this fan! It\\'s really attractive and sits pretty low profile, so it doesn\\'t take up a ton of room. We used the lighter color blades and they look so nice and don\\'t make the room feel heavy like our old, dark colored fan did. This fan moves a LOT of air, which is great. Great purchase!\",\"SecondaryRatings\":{\"Quality\":null,\"Value\":null,\"EnergyEfficiency\":null,\"Features\":null,\"Appearance\":null,\"EaseOfInstallation\":null,\"EaseOfUse\":null,\"__typename\":\"SecondaryRatings\"},\"SecondaryRatingsOrder\":[],\"SyndicationSource\":null,\"UserNickname\":\"Katie1313\",\"UserLocation\":null,\"Videos\":[],\"__typename\":\"ReviewModel\"},{\"AuthorId\":\"38270350\",\"Badges\":{\"DIY\":null,\"top250Contributor\":null,\"IncentivizedReview\":null,\"EarlyReviewerIncentive\":null,\"top1000Contributor\":null,\"VerifiedPurchaser\":null,\"__typename\":\"ReviewsBadges\"},\"BadgesOrder\":[],\"CampaignId\":\"20170523_PPC_PR2_IN_ONLINE_3032541_Android\",\"ContextDataValues\":{\"Age\":null,\"VerifiedPurchaser\":null,\"__typename\":\"ReviewsContextDataValues\"},\"ContextDataValuesOrder\":[],\"Id\":\"184187927\",\"IsRecommended\":false,\"IsSyndicated\":false,\"Photos\":[],\"ProductId\":\"300662511\",\"SubmissionTime\":\"2017-05-23T18:17:20.000+00:00\",\"TagDimensions\":{\"Pro\":null,\"Con\":null,\"__typename\":\"ReviewsTagDimensions\"},\"Title\":\"Decent fan, bad installation experience\",\"TotalNegativeFeedbackCount\":0,\"TotalPositiveFeedbackCount\":10,\"ClientResponses\":[],\"Rating\":3,\"RatingRange\":5,\"ReviewText\":\"Once installed the fan looks nice and puts out a good amount of air. It does not come with a remote, which may be a downside for finer grain control without having to touch the pull strings on the fan itself. Fan blades were the easiest to install so far between the three different models of ceiling fans I have installed so far in the house, this included. The major downside to the fan is in the light kit installation onto the main fan body. The light kit internals - wiring, capacitor box, electric guts, need to fit in something like a 1.75x3x1.75 inch metal box inside the light kit, in-between the two bulb recepticles. The guts fit fine with the light kit by itself, but when you try to mate it to the fan, the fan has a metal tube protruding into the light kit box. This eliminated all space needed to fit the electric guts of the light kit back into its metal box and screw it shut. Ontop of this, the connectors between the light kit and fan are short, stiff, and hard to maneuver. The screw holes for the light kit are also at the bottom of the electrical box under the wires. I ended up leaving the capacitor box outside of the electrical box and used electrical tape to secure it to the light kit. Cannot see it through the light dome once installed. I do not remember any other fan having such a difficult light kit installation and one other fan that I have is another Hunter model. Overall the fan performs as it should and the grey colored blades look nice, but the installation of the light kit would turn me away if I had to buy again.\",\"SecondaryRatings\":{\"Quality\":null,\"Value\":null,\"EnergyEfficiency\":null,\"Features\":null,\"Appearance\":null,\"EaseOfInstallation\":null,\"EaseOfUse\":null,\"__typename\":\"SecondaryRatings\"},\"SecondaryRatingsOrder\":[],\"SyndicationSource\":null,\"UserNickname\":\"Garagelubed\",\"UserLocation\":null,\"Videos\":[],\"__typename\":\"ReviewModel\"},{\"AuthorId\":\"03FD202EF91A73F00S\",\"Badges\":{\"DIY\":null,\"top250Contributor\":null,\"IncentivizedReview\":null,\"EarlyReviewerIncentive\":null,\"top1000Contributor\":null,\"VerifiedPurchaser\":null,\"__typename\":\"ReviewsBadges\"},\"BadgesOrder\":[],\"CampaignId\":\"20170530_PPC_PR1_IN_STORE_AZ3034322_iOS\",\"ContextDataValues\":{\"Age\":null,\"VerifiedPurchaser\":null,\"__typename\":\"ReviewsContextDataValues\"},\"ContextDataValuesOrder\":[],\"Id\":\"184745634\",\"IsRecommended\":true,\"IsSyndicated\":false,\"Photos\":[],\"ProductId\":\"300662511\",\"SubmissionTime\":\"2017-05-30T15:43:35.000+00:00\",\"TagDimensions\":{\"Pro\":null,\"Con\":null,\"__typename\":\"ReviewsTagDimensions\"},\"Title\":\"Nice fan cheap screws\",\"TotalNegativeFeedbackCount\":0,\"TotalPositiveFeedbackCount\":0,\"ClientResponses\":[],\"Rating\":4,\"RatingRange\":5,\"ReviewText\":\"After all was completed the fan works great. It was the cheap screws and miss aligned holes that were the problem. Had to take the first one back because of this. Second one was fine. Light kit very hard to secure screws with all the wires in the box. What\\'s great is the fan is super quite. Great product after the install.\",\"SecondaryRatings\":{\"Quality\":null,\"Value\":null,\"EnergyEfficiency\":null,\"Features\":null,\"Appearance\":null,\"EaseOfInstallation\":null,\"EaseOfUse\":null,\"__typename\":\"SecondaryRatings\"},\"SecondaryRatingsOrder\":[],\"SyndicationSource\":null,\"UserNickname\":\"Handykindof\",\"UserLocation\":null,\"Videos\":[],\"__typename\":\"ReviewModel\"},{\"AuthorId\":\"03104436C46727B50S\",\"Badges\":{\"DIY\":null,\"top250Contributor\":null,\"IncentivizedReview\":null,\"EarlyReviewerIncentive\":null,\"top1000Contributor\":null,\"VerifiedPurchaser\":null,\"__typename\":\"ReviewsBadges\"},\"BadgesOrder\":[],\"CampaignId\":\"MOBILE APP_USER_REVIEW_SUBMIT_IPHONE\",\"ContextDataValues\":{\"Age\":null,\"VerifiedPurchaser\":null,\"__typename\":\"ReviewsContextDataValues\"},\"ContextDataValuesOrder\":[],\"Id\":\"186524115\",\"IsRecommended\":true,\"IsSyndicated\":false,\"Photos\":[],\"ProductId\":\"300662511\",\"SubmissionTime\":\"2017-06-12T05:49:08.000+00:00\",\"TagDimensions\":{\"Pro\":null,\"Con\":null,\"__typename\":\"ReviewsTagDimensions\"},\"Title\":\"love this fan!\",\"TotalNegativeFeedbackCount\":0,\"TotalPositiveFeedbackCount\":0,\"ClientResponses\":[],\"Rating\":5,\"RatingRange\":5,\"ReviewText\":\"Moved into new home, new flooring gray/black and this fan rocked in my master bedroom bought another for my office. LOVE!\",\"SecondaryRatings\":{\"Quality\":null,\"Value\":null,\"EnergyEfficiency\":null,\"Features\":null,\"Appearance\":null,\"EaseOfInstallation\":null,\"EaseOfUse\":null,\"__typename\":\"SecondaryRatings\"},\"SecondaryRatingsOrder\":[],\"SyndicationSource\":null,\"UserNickname\":\"Roxie\",\"UserLocation\":null,\"Videos\":[],\"__typename\":\"ReviewModel\"},{\"AuthorId\":\"03ED0877253835900S\",\"Badges\":{\"DIY\":null,\"top250Contributor\":null,\"IncentivizedReview\":null,\"EarlyReviewerIncentive\":null,\"top1000Contributor\":null,\"VerifiedPurchaser\":null,\"__typename\":\"ReviewsBadges\"},\"BadgesOrder\":[\"verifiedPurchaser\"],\"CampaignId\":\"20170613_PPC_PR1_IN_ONLINE3038589\",\"ContextDataValues\":{\"Age\":null,\"VerifiedPurchaser\":null,\"__typename\":\"ReviewsContextDataValues\"},\"ContextDataValuesOrder\":[],\"Id\":\"186598620\",\"IsRecommended\":true,\"IsSyndicated\":false,\"Photos\":[],\"ProductId\":\"300662511\",\"SubmissionTime\":\"2017-06-13T13:08:36.000+00:00\",\"TagDimensions\":{\"Pro\":null,\"Con\":null,\"__typename\":\"ReviewsTagDimensions\"},\"Title\":\"Was easy to install and is so quiet you can\\'t even hear it running\",\"TotalNegativeFeedbackCount\":0,\"TotalPositiveFeedbackCount\":0,\"ClientResponses\":[],\"Rating\":5,\"RatingRange\":5,\"ReviewText\":\"Was easy to install and is so quiet you can\\'t even hear it running\",\"SecondaryRatings\":{\"Quality\":null,\"Value\":null,\"EnergyEfficiency\":null,\"Features\":null,\"Appearance\":null,\"EaseOfInstallation\":null,\"EaseOfUse\":null,\"__typename\":\"SecondaryRatings\"},\"SecondaryRatingsOrder\":[],\"SyndicationSource\":null,\"UserNickname\":\"jamie4vols\",\"UserLocation\":null,\"Videos\":[],\"__typename\":\"ReviewModel\"}],\"Includes\":{\"Products\":{\"store\":{\"Id\":\"300662511\",\"FilteredReviewStatistics\":{\"AverageOverallRating\":\"4.4\",\"TotalReviewCount\":1210,\"TotalRecommendedCount\":309,\"RecommendedCount\":220,\"NotRecommendedCount\":89,\"SecondaryRatingsAveragesOrder\":[\"Quality\",\"Value\"],\"RatingDistribution\":[{\"RatingValue\":5,\"Count\":838,\"__typename\":\"RatingDistribution\"},{\"RatingValue\":4,\"Count\":179,\"__typename\":\"RatingDistribution\"},{\"RatingValue\":3,\"Count\":47,\"__typename\":\"RatingDistribution\"},{\"RatingValue\":2,\"Count\":59,\"__typename\":\"RatingDistribution\"},{\"RatingValue\":1,\"Count\":87,\"__typename\":\"RatingDistribution\"}],\"ContextDataDistribution\":{\"Age\":{\"Values\":[{\"Value\":\"18to24\",\"Count\":\"0\",\"__typename\":\"ContextDataDistributionValue\"},{\"Value\":\"25to34\",\"Count\":\"1\",\"__typename\":\"ContextDataDistributionValue\"},{\"Value\":\"35to44\",\"Count\":\"2\",\"__typename\":\"ContextDataDistributionValue\"},{\"Value\":\"45to54\",\"Count\":\"6\",\"__typename\":\"ContextDataDistributionValue\"},{\"Value\":\"55to64\",\"Count\":\"7\",\"__typename\":\"ContextDataDistributionValue\"},{\"Value\":\"65orOver\",\"Count\":\"4\",\"__typename\":\"ContextDataDistributionValue\"}],\"__typename\":\"ContextDataDistribution\"},\"Gender\":{\"Values\":[{\"Value\":\"Male\",\"Count\":\"11\",\"__typename\":\"ContextDataDistributionValue\"},{\"Value\":\"Female\",\"Count\":\"9\",\"__typename\":\"ContextDataDistributionValue\"}],\"__typename\":\"ContextDataDistribution\"},\"Expertise\":null,\"HomeGoodsProfile\":{\"Values\":[{\"Value\":\"DIYer\",\"Count\":\"13\",\"__typename\":\"ContextDataDistributionValue\"},{\"Value\":\"Professional\",\"Count\":\"3\",\"__typename\":\"ContextDataDistributionValue\"}],\"__typename\":\"ContextDataDistribution\"},\"VerifiedPurchaser\":{\"Values\":[{\"Value\":\"True\",\"Count\":\"1045\",\"__typename\":\"ContextDataDistributionValue\"},{\"Value\":\"False\",\"Count\":\"99\",\"__typename\":\"ContextDataDistributionValue\"}],\"__typename\":\"ContextDataDistribution\"},\"__typename\":\"ContextDataDistributions\"},\"__typename\":\"ReviewsFilteredReviewStatistics\"},\"__typename\":\"ReviewProductDataStore\"},\"items\":[{\"Id\":\"307853682\",\"FilteredReviewStatistics\":{\"AverageOverallRating\":\"4.340495867768595\",\"TotalReviewCount\":1210,\"TotalRecommendedCount\":0,\"RecommendedCount\":220,\"NotRecommendedCount\":89,\"SecondaryRatingsAveragesOrder\":[\"Quality\",\"Value\"],\"RatingDistribution\":[{\"RatingValue\":5,\"Count\":838,\"__typename\":\"RatingDistribution\"},{\"RatingValue\":4,\"Count\":179,\"__typename\":\"RatingDistribution\"},{\"RatingValue\":1,\"Count\":87,\"__typename\":\"RatingDistribution\"},{\"RatingValue\":2,\"Count\":59,\"__typename\":\"RatingDistribution\"},{\"RatingValue\":3,\"Count\":47,\"__typename\":\"RatingDistribution\"}],\"ContextDataDistribution\":{\"Age\":{\"Values\":[{\"Value\":\"25to34\",\"Count\":\"1\",\"__typename\":\"ContextDataDistributionValue\"},{\"Value\":\"35to44\",\"Count\":\"2\",\"__typename\":\"ContextDataDistributionValue\"},{\"Value\":\"45to54\",\"Count\":\"6\",\"__typename\":\"ContextDataDistributionValue\"},{\"Value\":\"55to64\",\"Count\":\"7\",\"__typename\":\"ContextDataDistributionValue\"},{\"Value\":\"65orOver\",\"Count\":\"4\",\"__typename\":\"ContextDataDistributionValue\"}],\"__typename\":\"ContextDataDistribution\"},\"Gender\":{\"Values\":[{\"Value\":\"Male\",\"Count\":\"11\",\"__typename\":\"ContextDataDistributionValue\"},{\"Value\":\"Female\",\"Count\":\"9\",\"__typename\":\"ContextDataDistributionValue\"}],\"__typename\":\"ContextDataDistribution\"},\"Expertise\":null,\"HomeGoodsProfile\":{\"Values\":[{\"Value\":\"DIYer\",\"Count\":\"13\",\"__typename\":\"ContextDataDistributionValue\"},{\"Value\":\"Professional\",\"Count\":\"3\",\"__typename\":\"ContextDataDistributionValue\"},{\"Value\":\"Other\",\"Count\":\"3\",\"__typename\":\"ContextDataDistributionValue\"}],\"__typename\":\"ContextDataDistribution\"},\"VerifiedPurchaser\":{\"Values\":[{\"Value\":\"True\",\"Count\":\"1045\",\"__typename\":\"ContextDataDistributionValue\"},{\"Value\":\"False\",\"Count\":\"99\",\"__typename\":\"ContextDataDistributionValue\"}],\"__typename\":\"ContextDataDistribution\"},\"__typename\":\"ContextDataDistributions\"},\"__typename\":\"ReviewsFilteredReviewStatistics\"},\"__typename\":\"ReviewProductDataStore\"}],\"__typename\":\"ReviewIncludesProducts\"},\"__typename\":\"ReviewIncludes\"},\"FilterSelected\":{\"StarRatings\":null,\"VerifiedPurchaser\":null,\"SearchText\":null,\"__typename\":\"BVReviewFilter\"},\"pagination\":{\"previousPage\":null,\"pages\":[{\"label\":\"1\",\"isNextPage\":null,\"isPreviousPage\":null,\"isSelectedPage\":true,\"__typename\":\"BVPage\"},{\"label\":\"2\",\"isNextPage\":null,\"isPreviousPage\":null,\"isSelectedPage\":false,\"__typename\":\"BVPage\"},{\"label\":null,\"isNextPage\":null,\"isPreviousPage\":null,\"isSelectedPage\":false,\"__typename\":\"BVPage\"},{\"label\":\"121\",\"isNextPage\":null,\"isPreviousPage\":null,\"isSelectedPage\":false,\"__typename\":\"BVPage\"}],\"nextPage\":{\"label\":\"2\",\"isNextPage\":true,\"isPreviousPage\":null,\"isSelectedPage\":false,\"__typename\":\"BVPage\"},\"__typename\":\"BVPagination\"},\"SortBy\":{\"mosthelpfull\":null,\"newest\":null,\"oldest\":true,\"highestrating\":null,\"lowestrating\":null,\"photoreview\":null,\"__typename\":\"BVSortBy\"},\"TotalResults\":1210,\"__typename\":\"ReviewsResponse\"}}}'"
      ]
     },
     "execution_count": 59,
     "metadata": {},
     "output_type": "execute_result"
    }
   ],
   "source": [
    "response.text"
   ]
  },
  {
   "cell_type": "code",
   "execution_count": 62,
   "metadata": {},
   "outputs": [],
   "source": [
    "data = response.json()['data']"
   ]
  },
  {
   "cell_type": "code",
   "execution_count": 64,
   "metadata": {},
   "outputs": [
    {
     "data": {
      "text/plain": [
       "10"
      ]
     },
     "execution_count": 64,
     "metadata": {},
     "output_type": "execute_result"
    }
   ],
   "source": [
    "len(reviews)"
   ]
  },
  {
   "cell_type": "code",
   "execution_count": 69,
   "metadata": {},
   "outputs": [],
   "source": [
    "first_review = data.get('reviews',{}).get('Results', {})[0]"
   ]
  },
  {
   "cell_type": "code",
   "execution_count": 70,
   "metadata": {},
   "outputs": [
    {
     "data": {
      "text/plain": [
       "'I generally love Hunter fans.  This one is no exception.  Looks great.  Virtually silent. Zero wobble, even with a 3 foot down rod.  Styling is perfect for the room I used it in.  Easy installation.  The ONLY down side is that you must take to lighting globe off to get to the reversing switch.'"
      ]
     },
     "execution_count": 70,
     "metadata": {},
     "output_type": "execute_result"
    }
   ],
   "source": [
    "ReviewText = first_review.get('ReviewText', {})\n",
    "ReviewText"
   ]
  },
  {
   "cell_type": "code",
   "execution_count": 73,
   "metadata": {},
   "outputs": [
    {
     "data": {
      "text/plain": [
       "'2017-04-25'"
      ]
     },
     "execution_count": 73,
     "metadata": {},
     "output_type": "execute_result"
    }
   ],
   "source": [
    "SubmissionTime = first_review.get('SubmissionTime', {}).split('T')[0]\n",
    "SubmissionTime"
   ]
  },
  {
   "cell_type": "code",
   "execution_count": 78,
   "metadata": {},
   "outputs": [
    {
     "data": {
      "text/plain": [
       "'/p/Home-Decorators-Collection-Merwry-52-in-Integrated-LED-Indoor-Matte-Black-Ceiling-Fan-with-Light-Kit-and-Remote-Control-SW1422MBK/301231214'"
      ]
     },
     "execution_count": 78,
     "metadata": {},
     "output_type": "execute_result"
    }
   ],
   "source": [
    "headers['X-Current-Url']"
   ]
  },
  {
   "cell_type": "code",
   "execution_count": 88,
   "metadata": {},
   "outputs": [],
   "source": [
    "def extract_first_review(current_url, itemId):\n",
    "    headers['X-Current-Url'] = current_url\n",
    "    payload['variables']['itemId'] = itemId\n",
    "    url = 'https://apionline.homedepot.com/federation-gateway/graphql?opname=reviews'\n",
    "    session = requests.Session()\n",
    "    response = session.post(url, json=payload, headers=headers)\n",
    "\n",
    "    try:\n",
    "        data = response.json()['data']\n",
    "        first_review = data.get('reviews',{}).get('Results', {})[0]\n",
    "        ReviewText = first_review.get('ReviewText', {})\n",
    "        SubmissionTime = first_review.get('SubmissionTime', {}).split('T')[0]\n",
    "    except:\n",
    "        ReviewText = None\n",
    "        SubmissionTime = None\n",
    "\n",
    "    output = {\n",
    "        'ReviewText': ReviewText,\n",
    "        'SubmissionTime': SubmissionTime\n",
    "    }\n",
    "\n",
    "    return output"
   ]
  },
  {
   "cell_type": "code",
   "execution_count": 93,
   "metadata": {},
   "outputs": [],
   "source": [
    "current_url = '/p/Home-Decorators-Collection-Ashby-Park-44-in-White-Color-Changing-Integrated-LED-Brushed-Nickel-Ceiling-Fan-with-Light-Kit-and-3-Reversible-Blades-59244/308038103'\n",
    "itemId = \"308038103\""
   ]
  },
  {
   "cell_type": "code",
   "execution_count": 95,
   "metadata": {},
   "outputs": [
    {
     "data": {
      "text/plain": [
       "{'ReviewText': \"The only reason I did not give this Ceiling Fan 5 Stars across the board will be addressed at the end of this review. [ In case you read that far.] This fan is made with exact tolerances, this fan is well made. Item came packed just like you'd expect, formed Styrofoam etc. But back to the fan, instructions are well versed, drawings well executed. Take the time to read them. Hint, get a magnetic Phillips screw driver. Well, the reason it does not get Five Stars, is that the box shows a flush ceiling mount, we could not find that specific set of instructions. My wife is delirious with the light this Ceiling light cast.\\r\\nAdded bonus, it almost matched a existing fan I/We had.\",\n",
       " 'SubmissionTime': '2019-02-25'}"
      ]
     },
     "execution_count": 95,
     "metadata": {},
     "output_type": "execute_result"
    }
   ],
   "source": [
    "extract_first_review(current_url, itemId)"
   ]
  }
 ],
 "metadata": {
  "kernelspec": {
   "display_name": ".venv",
   "language": "python",
   "name": "python3"
  },
  "language_info": {
   "codemirror_mode": {
    "name": "ipython",
    "version": 3
   },
   "file_extension": ".py",
   "mimetype": "text/x-python",
   "name": "python",
   "nbconvert_exporter": "python",
   "pygments_lexer": "ipython3",
   "version": "3.12.4"
  }
 },
 "nbformat": 4,
 "nbformat_minor": 2
}
